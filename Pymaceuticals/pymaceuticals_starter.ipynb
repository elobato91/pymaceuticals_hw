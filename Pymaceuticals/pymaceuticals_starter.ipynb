{
 "cells": [
  {
   "cell_type": "markdown",
   "metadata": {},
   "source": [
    "## Observations and Insights"
   ]
  },
  {
   "cell_type": "markdown",
   "metadata": {},
   "source": []
  },
  {
   "cell_type": "markdown",
   "metadata": {},
   "source": [
    "## Dependencies and starter code"
   ]
  },
  {
   "cell_type": "code",
   "execution_count": 34,
   "metadata": {},
   "outputs": [
    {
     "data": {
      "text/html": [
       "<div>\n",
       "<style scoped>\n",
       "    .dataframe tbody tr th:only-of-type {\n",
       "        vertical-align: middle;\n",
       "    }\n",
       "\n",
       "    .dataframe tbody tr th {\n",
       "        vertical-align: top;\n",
       "    }\n",
       "\n",
       "    .dataframe thead th {\n",
       "        text-align: right;\n",
       "    }\n",
       "</style>\n",
       "<table border=\"1\" class=\"dataframe\">\n",
       "  <thead>\n",
       "    <tr style=\"text-align: right;\">\n",
       "      <th></th>\n",
       "      <th>Mouse ID</th>\n",
       "      <th>Drug Regimen</th>\n",
       "      <th>Sex</th>\n",
       "      <th>Age_months</th>\n",
       "      <th>Weight (g)</th>\n",
       "      <th>Timepoint</th>\n",
       "      <th>Tumor Volume (mm3)</th>\n",
       "      <th>Metastatic Sites</th>\n",
       "    </tr>\n",
       "  </thead>\n",
       "  <tbody>\n",
       "    <tr>\n",
       "      <td>0</td>\n",
       "      <td>k403</td>\n",
       "      <td>Ramicane</td>\n",
       "      <td>Male</td>\n",
       "      <td>21</td>\n",
       "      <td>16</td>\n",
       "      <td>0</td>\n",
       "      <td>45.000000</td>\n",
       "      <td>0</td>\n",
       "    </tr>\n",
       "    <tr>\n",
       "      <td>1</td>\n",
       "      <td>k403</td>\n",
       "      <td>Ramicane</td>\n",
       "      <td>Male</td>\n",
       "      <td>21</td>\n",
       "      <td>16</td>\n",
       "      <td>5</td>\n",
       "      <td>38.825898</td>\n",
       "      <td>0</td>\n",
       "    </tr>\n",
       "    <tr>\n",
       "      <td>2</td>\n",
       "      <td>k403</td>\n",
       "      <td>Ramicane</td>\n",
       "      <td>Male</td>\n",
       "      <td>21</td>\n",
       "      <td>16</td>\n",
       "      <td>10</td>\n",
       "      <td>35.014271</td>\n",
       "      <td>1</td>\n",
       "    </tr>\n",
       "    <tr>\n",
       "      <td>3</td>\n",
       "      <td>k403</td>\n",
       "      <td>Ramicane</td>\n",
       "      <td>Male</td>\n",
       "      <td>21</td>\n",
       "      <td>16</td>\n",
       "      <td>15</td>\n",
       "      <td>34.223992</td>\n",
       "      <td>1</td>\n",
       "    </tr>\n",
       "    <tr>\n",
       "      <td>4</td>\n",
       "      <td>k403</td>\n",
       "      <td>Ramicane</td>\n",
       "      <td>Male</td>\n",
       "      <td>21</td>\n",
       "      <td>16</td>\n",
       "      <td>20</td>\n",
       "      <td>32.997729</td>\n",
       "      <td>1</td>\n",
       "    </tr>\n",
       "  </tbody>\n",
       "</table>\n",
       "</div>"
      ],
      "text/plain": [
       "  Mouse ID Drug Regimen   Sex  Age_months  Weight (g)  Timepoint  \\\n",
       "0     k403     Ramicane  Male          21          16          0   \n",
       "1     k403     Ramicane  Male          21          16          5   \n",
       "2     k403     Ramicane  Male          21          16         10   \n",
       "3     k403     Ramicane  Male          21          16         15   \n",
       "4     k403     Ramicane  Male          21          16         20   \n",
       "\n",
       "   Tumor Volume (mm3)  Metastatic Sites  \n",
       "0           45.000000                 0  \n",
       "1           38.825898                 0  \n",
       "2           35.014271                 1  \n",
       "3           34.223992                 1  \n",
       "4           32.997729                 1  "
      ]
     },
     "execution_count": 34,
     "metadata": {},
     "output_type": "execute_result"
    }
   ],
   "source": [
    "# Dependencies and Setup\n",
    "import matplotlib.pyplot as plt\n",
    "import pandas as pd\n",
    "import scipy.stats as st\n",
    "import numpy as np\n",
    "\n",
    "# Study data files\n",
    "mouse_metadata = \"data/Mouse_metadata.csv\"\n",
    "study_results = \"data/Study_results.csv\"\n",
    "\n",
    "# Read the mouse data and the study results\n",
    "mouse_metadata = pd.read_csv(mouse_metadata)\n",
    "study_results = pd.read_csv(study_results)\n",
    "\n",
    "# Combine the data into a single dataset\n",
    "combined_mousetesting = pd.merge(mouse_metadata, study_results, on=\"Mouse ID\")\n",
    "combined_mousetesting.head()"
   ]
  },
  {
   "cell_type": "markdown",
   "metadata": {},
   "source": [
    "## Summary statistics"
   ]
  },
  {
   "cell_type": "code",
   "execution_count": 35,
   "metadata": {},
   "outputs": [
    {
     "name": "stdout",
     "output_type": "stream",
     "text": [
      "<pandas.core.groupby.generic.DataFrameGroupBy object at 0x000001E855B9EEC8>\n"
     ]
    },
    {
     "data": {
      "text/html": [
       "<div>\n",
       "<style scoped>\n",
       "    .dataframe tbody tr th:only-of-type {\n",
       "        vertical-align: middle;\n",
       "    }\n",
       "\n",
       "    .dataframe tbody tr th {\n",
       "        vertical-align: top;\n",
       "    }\n",
       "\n",
       "    .dataframe thead th {\n",
       "        text-align: right;\n",
       "    }\n",
       "</style>\n",
       "<table border=\"1\" class=\"dataframe\">\n",
       "  <thead>\n",
       "    <tr style=\"text-align: right;\">\n",
       "      <th></th>\n",
       "      <th>Mean</th>\n",
       "      <th>Median</th>\n",
       "      <th>Var</th>\n",
       "      <th>Std Dev</th>\n",
       "    </tr>\n",
       "    <tr>\n",
       "      <th>Drug Regimen</th>\n",
       "      <th></th>\n",
       "      <th></th>\n",
       "      <th></th>\n",
       "      <th></th>\n",
       "    </tr>\n",
       "  </thead>\n",
       "  <tbody>\n",
       "    <tr>\n",
       "      <td>Capomulin</td>\n",
       "      <td>40.675741</td>\n",
       "      <td>41.557809</td>\n",
       "      <td>24.947764</td>\n",
       "      <td>4.994774</td>\n",
       "    </tr>\n",
       "    <tr>\n",
       "      <td>Ceftamin</td>\n",
       "      <td>52.591172</td>\n",
       "      <td>51.776157</td>\n",
       "      <td>39.290177</td>\n",
       "      <td>6.268188</td>\n",
       "    </tr>\n",
       "    <tr>\n",
       "      <td>Infubinol</td>\n",
       "      <td>52.884795</td>\n",
       "      <td>51.820584</td>\n",
       "      <td>43.128684</td>\n",
       "      <td>6.567243</td>\n",
       "    </tr>\n",
       "    <tr>\n",
       "      <td>Ketapril</td>\n",
       "      <td>55.235638</td>\n",
       "      <td>53.698743</td>\n",
       "      <td>68.553577</td>\n",
       "      <td>8.279709</td>\n",
       "    </tr>\n",
       "    <tr>\n",
       "      <td>Naftisol</td>\n",
       "      <td>54.331565</td>\n",
       "      <td>52.509285</td>\n",
       "      <td>66.173479</td>\n",
       "      <td>8.134708</td>\n",
       "    </tr>\n",
       "  </tbody>\n",
       "</table>\n",
       "</div>"
      ],
      "text/plain": [
       "                   Mean     Median        Var   Std Dev\n",
       "Drug Regimen                                           \n",
       "Capomulin     40.675741  41.557809  24.947764  4.994774\n",
       "Ceftamin      52.591172  51.776157  39.290177  6.268188\n",
       "Infubinol     52.884795  51.820584  43.128684  6.567243\n",
       "Ketapril      55.235638  53.698743  68.553577  8.279709\n",
       "Naftisol      54.331565  52.509285  66.173479  8.134708"
      ]
     },
     "execution_count": 35,
     "metadata": {},
     "output_type": "execute_result"
    }
   ],
   "source": [
    "# Generate a summary statistics table of mean, median, variance, standard deviation, and SEM of the tumor volume for each regimen\n",
    "drug_groups = combined_mousetesting.groupby(\"Drug Regimen\")\n",
    "print(drug_groups)\n",
    "\n",
    "Tumor_mean_numpy = drug_groups[\"Tumor Volume (mm3)\"].mean()\n",
    "Tumor_median_numpy = drug_groups[\"Tumor Volume (mm3)\"].median()\n",
    "variance_numpy = drug_groups[\"Tumor Volume (mm3)\"].var()\n",
    "Standard_dev_numpy = drug_groups[\"Tumor Volume (mm3)\"].std()\n",
    "\n",
    "stats_df = pd.DataFrame({\"Mean\": Tumor_mean_numpy,\n",
    "                        \"Median\": Tumor_median_numpy,\n",
    "                        \"Var\": variance_numpy,\n",
    "                        \"Std Dev\": Standard_dev_numpy})\n",
    "stats_df.head()\n",
    "\n",
    "\n"
   ]
  },
  {
   "cell_type": "markdown",
   "metadata": {},
   "source": [
    "## Bar plots"
   ]
  },
  {
   "cell_type": "code",
   "execution_count": 36,
   "metadata": {},
   "outputs": [
    {
     "data": {
      "text/plain": [
       "<matplotlib.axes._subplots.AxesSubplot at 0x1e854628508>"
      ]
     },
     "execution_count": 36,
     "metadata": {},
     "output_type": "execute_result"
    },
    {
     "data": {
      "image/png": "[encoded data removed]",
      "text/plain": [
       "<Figure size 432x288 with 1 Axes>"
      ]
     },
     "metadata": {
      "needs_background": "light"
     },
     "output_type": "display_data"
    }
   ],
   "source": [
    "# Generate a bar plot showing number of data points for each treatment regimen using pandas\n",
    "\n",
    "drug_data = combined_mousetesting[\"Drug Regimen\"].value_counts()\n",
    "drug_data.plot(kind=\"bar\", facecolor=\"blue\")\n",
    "\n"
   ]
  },
  {
   "cell_type": "code",
   "execution_count": 37,
   "metadata": {},
   "outputs": [
    {
     "data": {
      "text/plain": [
       "<BarContainer object of 10 artists>"
      ]
     },
     "execution_count": 37,
     "metadata": {},
     "output_type": "execute_result"
    },
    {
     "data": {
      "image/png": "[encoded data removed]",
      "text/plain": [
       "<Figure size 432x288 with 1 Axes>"
      ]
     },
     "metadata": {
      "needs_background": "light"
     },
     "output_type": "display_data"
    }
   ],
   "source": [
    "# Generate a bar plot showing number of data points for each treatment regimen using pyplot\n",
    "drugs = drug_data\n",
    "x_axis = np.arange(len(drugs))\n",
    "\n",
    "plt.bar(x_axis, drugs, color='b', alpha=0.5, align=\"center\")"
   ]
  },
  {
   "cell_type": "markdown",
   "metadata": {},
   "source": [
    "## Pie plots"
   ]
  },
  {
   "cell_type": "code",
   "execution_count": 38,
   "metadata": {},
   "outputs": [
    {
     "name": "stdout",
     "output_type": "stream",
     "text": [
      "Male      958\n",
      "Female    935\n",
      "Name: Sex, dtype: int64\n"
     ]
    },
    {
     "data": {
      "image/png": "[encoded data removed]",
      "text/plain": [
       "<Figure size 432x288 with 1 Axes>"
      ]
     },
     "metadata": {},
     "output_type": "display_data"
    }
   ],
   "source": [
    "# Generate a pie plot showing the distribution of female versus male mice using pandas\n",
    "genders = combined_mousetesting[\"Sex\"].value_counts()\n",
    "names = [\"Male\", \"Female\"]\n",
    "print(genders)\n",
    "\n",
    "# Tell matplotlib to create a pie chart based upon the above data\n",
    "plt.pie(genders, labels=names,\n",
    "        autopct=\"%1.1f%%\", shadow=True, startangle=0)\n",
    "# Create axes which are equal so we have a perfect circle\n",
    "plt.axis(\"equal\")\n",
    "# Save an image of our chart and print the final product to the screen\n",
    "#plt.savefig(\"../Images/PyPies.png\")\n",
    "plt.show()"
   ]
  },
  {
   "cell_type": "code",
   "execution_count": 39,
   "metadata": {},
   "outputs": [
    {
     "data": {
      "image/png": "[encoded data removed]",
      "text/plain": [
       "<Figure size 432x288 with 1 Axes>"
      ]
     },
     "metadata": {},
     "output_type": "display_data"
    }
   ],
   "source": [
    "# Generate a pie plot showing the distribution of female versus male mice using pyplot\n",
    "plt.pie(genders, labels=names,\n",
    "        autopct=\"%1.1f%%\", shadow=True, startangle=90)\n",
    "plt.axis(\"equal\")\n",
    "plt.show()\n"
   ]
  },
  {
   "cell_type": "markdown",
   "metadata": {},
   "source": [
    "## Quartiles, outliers and boxplots"
   ]
  },
  {
   "cell_type": "code",
   "execution_count": 40,
   "metadata": {},
   "outputs": [
    {
     "name": "stdout",
     "output_type": "stream",
     "text": [
      "The lower quartile of occupancy is: 46.91089166\n",
      "The upper quartile of occupancy is: 64.95756185\n",
      "The interquartile range of occupancy is: 18.046670190000007\n",
      "The the median of occupancy is: 55.84141007 \n",
      "Values below 19.840886374999986 could be outliers.\n",
      "Values above 92.02756713500001 could be outliers.\n"
     ]
    },
    {
     "data": {
      "text/html": [
       "<div>\n",
       "<style scoped>\n",
       "    .dataframe tbody tr th:only-of-type {\n",
       "        vertical-align: middle;\n",
       "    }\n",
       "\n",
       "    .dataframe tbody tr th {\n",
       "        vertical-align: top;\n",
       "    }\n",
       "\n",
       "    .dataframe thead th {\n",
       "        text-align: right;\n",
       "    }\n",
       "</style>\n",
       "<table border=\"1\" class=\"dataframe\">\n",
       "  <thead>\n",
       "    <tr style=\"text-align: right;\">\n",
       "      <th></th>\n",
       "      <th>Drug Regimen</th>\n",
       "      <th>Sex</th>\n",
       "      <th>Age_months</th>\n",
       "      <th>Weight (g)</th>\n",
       "      <th>Timepoint</th>\n",
       "      <th>Tumor Volume (mm3)</th>\n",
       "      <th>Metastatic Sites</th>\n",
       "    </tr>\n",
       "    <tr>\n",
       "      <th>Mouse ID</th>\n",
       "      <th></th>\n",
       "      <th></th>\n",
       "      <th></th>\n",
       "      <th></th>\n",
       "      <th></th>\n",
       "      <th></th>\n",
       "      <th></th>\n",
       "    </tr>\n",
       "  </thead>\n",
       "  <tbody>\n",
       "    <tr>\n",
       "      <td>a203</td>\n",
       "      <td>Infubinol</td>\n",
       "      <td>Female</td>\n",
       "      <td>20</td>\n",
       "      <td>23</td>\n",
       "      <td>45</td>\n",
       "      <td>67.973419</td>\n",
       "      <td>2</td>\n",
       "    </tr>\n",
       "    <tr>\n",
       "      <td>a251</td>\n",
       "      <td>Infubinol</td>\n",
       "      <td>Female</td>\n",
       "      <td>21</td>\n",
       "      <td>25</td>\n",
       "      <td>45</td>\n",
       "      <td>65.525743</td>\n",
       "      <td>1</td>\n",
       "    </tr>\n",
       "    <tr>\n",
       "      <td>a262</td>\n",
       "      <td>Placebo</td>\n",
       "      <td>Female</td>\n",
       "      <td>17</td>\n",
       "      <td>29</td>\n",
       "      <td>45</td>\n",
       "      <td>70.717621</td>\n",
       "      <td>4</td>\n",
       "    </tr>\n",
       "    <tr>\n",
       "      <td>a275</td>\n",
       "      <td>Ceftamin</td>\n",
       "      <td>Female</td>\n",
       "      <td>20</td>\n",
       "      <td>28</td>\n",
       "      <td>45</td>\n",
       "      <td>62.999356</td>\n",
       "      <td>3</td>\n",
       "    </tr>\n",
       "    <tr>\n",
       "      <td>a366</td>\n",
       "      <td>Stelasyn</td>\n",
       "      <td>Female</td>\n",
       "      <td>16</td>\n",
       "      <td>29</td>\n",
       "      <td>30</td>\n",
       "      <td>63.440686</td>\n",
       "      <td>1</td>\n",
       "    </tr>\n",
       "  </tbody>\n",
       "</table>\n",
       "</div>"
      ],
      "text/plain": [
       "         Drug Regimen     Sex  Age_months  Weight (g)  Timepoint  \\\n",
       "Mouse ID                                                           \n",
       "a203        Infubinol  Female          20          23         45   \n",
       "a251        Infubinol  Female          21          25         45   \n",
       "a262          Placebo  Female          17          29         45   \n",
       "a275         Ceftamin  Female          20          28         45   \n",
       "a366         Stelasyn  Female          16          29         30   \n",
       "\n",
       "          Tumor Volume (mm3)  Metastatic Sites  \n",
       "Mouse ID                                        \n",
       "a203               67.973419                 2  \n",
       "a251               65.525743                 1  \n",
       "a262               70.717621                 4  \n",
       "a275               62.999356                 3  \n",
       "a366               63.440686                 1  "
      ]
     },
     "execution_count": 40,
     "metadata": {},
     "output_type": "execute_result"
    }
   ],
   "source": [
    "# Calculate the final tumor volume of each mouse across four of the most promising treatment regimens.\n",
    "#Calculate the IQR and quantitatively determine if there are any potential outliers. \n",
    "\n",
    "mouse_group = combined_mousetesting.groupby([\"Mouse ID\"]).max()\n",
    "\n",
    "quartiles = mouse_group['Tumor Volume (mm3)'].quantile([.25,.5,.75])\n",
    "lowerq = quartiles[0.25]\n",
    "upperq = quartiles[0.75]\n",
    "iqr = upperq-lowerq\n",
    "\n",
    "print(f\"The lower quartile of occupancy is: {lowerq}\")\n",
    "print(f\"The upper quartile of occupancy is: {upperq}\")\n",
    "print(f\"The interquartile range of occupancy is: {iqr}\")\n",
    "print(f\"The the median of occupancy is: {quartiles[0.5]} \")\n",
    "\n",
    "lower_bound = lowerq - (1.5*iqr)\n",
    "upper_bound = upperq + (1.5*iqr)\n",
    "print(f\"Values below {lower_bound} could be outliers.\")\n",
    "print(f\"Values above {upper_bound} could be outliers.\")\n",
    "\n",
    "mouse_group.head()\n"
   ]
  },
  {
   "cell_type": "code",
   "execution_count": 41,
   "metadata": {},
   "outputs": [],
   "source": [
    "# Generate a box plot of the final tumor volume of each mouse across four regimens of interest\n",
    "#combined_mousetesting.set_index(\"Drug Regimen\", inplace=True)\n",
    "#combined_mousetesting.head()\n",
    "\n",
    "infubinol_df = combined_mousetesting.loc[combined_mousetesting[\"Drug Regimen\"] == \"Infubinol\", :]\n",
    "Ceftamin_df = combined_mousetesting.loc[combined_mousetesting[\"Drug Regimen\"] == \"Ceftamin\", :]\n",
    "Stelasyn_df = combined_mousetesting.loc[combined_mousetesting[\"Drug Regimen\"] == \"Stelasyn\", :]\n",
    "Ketapril_df = combined_mousetesting.loc[combined_mousetesting[\"Drug Regimen\"] == \"Ketapril\", :]\n",
    "#data_4.boxplot(by =\"Drug Regimen\", column =['Tumor Volume (mm3)'], grid = False)\n",
    "\n"
   ]
  },
  {
   "cell_type": "code",
   "execution_count": 50,
   "metadata": {},
   "outputs": [
    {
     "data": {
      "text/html": [
       "<div>\n",
       "<style scoped>\n",
       "    .dataframe tbody tr th:only-of-type {\n",
       "        vertical-align: middle;\n",
       "    }\n",
       "\n",
       "    .dataframe tbody tr th {\n",
       "        vertical-align: top;\n",
       "    }\n",
       "\n",
       "    .dataframe thead th {\n",
       "        text-align: right;\n",
       "    }\n",
       "</style>\n",
       "<table border=\"1\" class=\"dataframe\">\n",
       "  <thead>\n",
       "    <tr style=\"text-align: right;\">\n",
       "      <th></th>\n",
       "      <th>Mouse ID</th>\n",
       "      <th>Timepoint</th>\n",
       "      <th>Drug Regimen</th>\n",
       "      <th>Sex</th>\n",
       "      <th>Age_months</th>\n",
       "      <th>Weight (g)</th>\n",
       "      <th>Tumor Volume (mm3)</th>\n",
       "      <th>Metastatic Sites</th>\n",
       "    </tr>\n",
       "  </thead>\n",
       "  <tbody>\n",
       "    <tr>\n",
       "      <td>0</td>\n",
       "      <td>a203</td>\n",
       "      <td>45</td>\n",
       "      <td>Infubinol</td>\n",
       "      <td>Female</td>\n",
       "      <td>20</td>\n",
       "      <td>23</td>\n",
       "      <td>67.973419</td>\n",
       "      <td>2</td>\n",
       "    </tr>\n",
       "    <tr>\n",
       "      <td>1</td>\n",
       "      <td>a251</td>\n",
       "      <td>45</td>\n",
       "      <td>Infubinol</td>\n",
       "      <td>Female</td>\n",
       "      <td>21</td>\n",
       "      <td>25</td>\n",
       "      <td>65.525743</td>\n",
       "      <td>1</td>\n",
       "    </tr>\n",
       "    <tr>\n",
       "      <td>2</td>\n",
       "      <td>a577</td>\n",
       "      <td>30</td>\n",
       "      <td>Infubinol</td>\n",
       "      <td>Female</td>\n",
       "      <td>6</td>\n",
       "      <td>25</td>\n",
       "      <td>57.031862</td>\n",
       "      <td>2</td>\n",
       "    </tr>\n",
       "    <tr>\n",
       "      <td>3</td>\n",
       "      <td>a685</td>\n",
       "      <td>45</td>\n",
       "      <td>Infubinol</td>\n",
       "      <td>Male</td>\n",
       "      <td>8</td>\n",
       "      <td>30</td>\n",
       "      <td>66.083066</td>\n",
       "      <td>3</td>\n",
       "    </tr>\n",
       "    <tr>\n",
       "      <td>4</td>\n",
       "      <td>c139</td>\n",
       "      <td>45</td>\n",
       "      <td>Infubinol</td>\n",
       "      <td>Male</td>\n",
       "      <td>11</td>\n",
       "      <td>28</td>\n",
       "      <td>72.226731</td>\n",
       "      <td>2</td>\n",
       "    </tr>\n",
       "  </tbody>\n",
       "</table>\n",
       "</div>"
      ],
      "text/plain": [
       "  Mouse ID  Timepoint Drug Regimen     Sex  Age_months  Weight (g)  \\\n",
       "0     a203         45    Infubinol  Female          20          23   \n",
       "1     a251         45    Infubinol  Female          21          25   \n",
       "2     a577         30    Infubinol  Female           6          25   \n",
       "3     a685         45    Infubinol    Male           8          30   \n",
       "4     c139         45    Infubinol    Male          11          28   \n",
       "\n",
       "   Tumor Volume (mm3)  Metastatic Sites  \n",
       "0           67.973419                 2  \n",
       "1           65.525743                 1  \n",
       "2           57.031862                 2  \n",
       "3           66.083066                 3  \n",
       "4           72.226731                 2  "
      ]
     },
     "execution_count": 50,
     "metadata": {},
     "output_type": "execute_result"
    }
   ],
   "source": [
    "infu = infubinol_df.groupby('Mouse ID').max()['Timepoint']\n",
    "infuvol = pd.DataFrame(infu)\n",
    "infumerge = pd.merge(infuvol, combined_mousetesting, on=(\"Mouse ID\",\"Timepoint\"),how=\"left\")\n",
    "infumerge.head()"
   ]
  },
  {
   "cell_type": "code",
   "execution_count": 49,
   "metadata": {
    "scrolled": true
   },
   "outputs": [
    {
     "name": "stdout",
     "output_type": "stream",
     "text": [
      "The lower quartile of occupancy is: 54.04860769\n",
      "The upper quartile of occupancy is: 65.52574285\n",
      "The interquartile range of occupancy is: 11.477135160000003\n",
      "The the median of occupancy is: 60.16518046 \n",
      "Values below 26.978602404999986 could be outliers.\n",
      "Values above 92.59574813500001 could be outliers.\n"
     ]
    },
    {
     "data": {
      "text/plain": [
       "0    67.973419\n",
       "1    65.525743\n",
       "2    57.031862\n",
       "3    66.083066\n",
       "4    72.226731\n",
       "Name: Tumor Volume (mm3), dtype: float64"
      ]
     },
     "execution_count": 49,
     "metadata": {},
     "output_type": "execute_result"
    }
   ],
   "source": [
    "drug0 = infumerge[\"Tumor Volume (mm3)\"]\n",
    "\n",
    "quartiles0 = drug0.quantile([.25,.5,.75])\n",
    "lower0 = quartiles0[0.25]\n",
    "upper0 = quartiles0[0.75]\n",
    "iqr0 = upper0-lower0\n",
    "print(f\"The lower quartile of occupancy is: {lower0}\")\n",
    "print(f\"The upper quartile of occupancy is: {upper0}\")\n",
    "print(f\"The interquartile range of occupancy is: {iqr0}\")\n",
    "print(f\"The the median of occupancy is: {quartiles0[0.5]} \")\n",
    "\n",
    "\n",
    "lower_bound0 = lower0 - (1.5*iqr)\n",
    "upper_bound0 = upper0 + (1.5*iqr)\n",
    "print(f\"Values below {lower_bound0} could be outliers.\")\n",
    "print(f\"Values above {upper_bound0} could be outliers.\")\n",
    "drug0.head()"
   ]
  },
  {
   "cell_type": "code",
   "execution_count": 51,
   "metadata": {},
   "outputs": [
    {
     "data": {
      "text/html": [
       "<div>\n",
       "<style scoped>\n",
       "    .dataframe tbody tr th:only-of-type {\n",
       "        vertical-align: middle;\n",
       "    }\n",
       "\n",
       "    .dataframe tbody tr th {\n",
       "        vertical-align: top;\n",
       "    }\n",
       "\n",
       "    .dataframe thead th {\n",
       "        text-align: right;\n",
       "    }\n",
       "</style>\n",
       "<table border=\"1\" class=\"dataframe\">\n",
       "  <thead>\n",
       "    <tr style=\"text-align: right;\">\n",
       "      <th></th>\n",
       "      <th>Mouse ID</th>\n",
       "      <th>Timepoint</th>\n",
       "      <th>Drug Regimen</th>\n",
       "      <th>Sex</th>\n",
       "      <th>Age_months</th>\n",
       "      <th>Weight (g)</th>\n",
       "      <th>Tumor Volume (mm3)</th>\n",
       "      <th>Metastatic Sites</th>\n",
       "    </tr>\n",
       "  </thead>\n",
       "  <tbody>\n",
       "    <tr>\n",
       "      <td>0</td>\n",
       "      <td>a275</td>\n",
       "      <td>45</td>\n",
       "      <td>Ceftamin</td>\n",
       "      <td>Female</td>\n",
       "      <td>20</td>\n",
       "      <td>28</td>\n",
       "      <td>62.999356</td>\n",
       "      <td>3</td>\n",
       "    </tr>\n",
       "    <tr>\n",
       "      <td>1</td>\n",
       "      <td>b447</td>\n",
       "      <td>0</td>\n",
       "      <td>Ceftamin</td>\n",
       "      <td>Male</td>\n",
       "      <td>2</td>\n",
       "      <td>30</td>\n",
       "      <td>45.000000</td>\n",
       "      <td>0</td>\n",
       "    </tr>\n",
       "    <tr>\n",
       "      <td>2</td>\n",
       "      <td>b487</td>\n",
       "      <td>25</td>\n",
       "      <td>Ceftamin</td>\n",
       "      <td>Female</td>\n",
       "      <td>6</td>\n",
       "      <td>28</td>\n",
       "      <td>56.057749</td>\n",
       "      <td>1</td>\n",
       "    </tr>\n",
       "    <tr>\n",
       "      <td>3</td>\n",
       "      <td>b759</td>\n",
       "      <td>30</td>\n",
       "      <td>Ceftamin</td>\n",
       "      <td>Female</td>\n",
       "      <td>12</td>\n",
       "      <td>25</td>\n",
       "      <td>55.742829</td>\n",
       "      <td>1</td>\n",
       "    </tr>\n",
       "    <tr>\n",
       "      <td>4</td>\n",
       "      <td>f436</td>\n",
       "      <td>15</td>\n",
       "      <td>Ceftamin</td>\n",
       "      <td>Female</td>\n",
       "      <td>3</td>\n",
       "      <td>25</td>\n",
       "      <td>48.722078</td>\n",
       "      <td>2</td>\n",
       "    </tr>\n",
       "  </tbody>\n",
       "</table>\n",
       "</div>"
      ],
      "text/plain": [
       "  Mouse ID  Timepoint Drug Regimen     Sex  Age_months  Weight (g)  \\\n",
       "0     a275         45     Ceftamin  Female          20          28   \n",
       "1     b447          0     Ceftamin    Male           2          30   \n",
       "2     b487         25     Ceftamin  Female           6          28   \n",
       "3     b759         30     Ceftamin  Female          12          25   \n",
       "4     f436         15     Ceftamin  Female           3          25   \n",
       "\n",
       "   Tumor Volume (mm3)  Metastatic Sites  \n",
       "0           62.999356                 3  \n",
       "1           45.000000                 0  \n",
       "2           56.057749                 1  \n",
       "3           55.742829                 1  \n",
       "4           48.722078                 2  "
      ]
     },
     "execution_count": 51,
     "metadata": {},
     "output_type": "execute_result"
    }
   ],
   "source": [
    "ceft = Ceftamin_df.groupby('Mouse ID').max()['Timepoint']\n",
    "ceftvol = pd.DataFrame(ceft)\n",
    "ceftmerge = pd.merge(ceftvol, combined_mousetesting, on=(\"Mouse ID\",\"Timepoint\"),how=\"left\")\n",
    "ceftmerge.head()"
   ]
  },
  {
   "cell_type": "code",
   "execution_count": 53,
   "metadata": {},
   "outputs": [
    {
     "name": "stdout",
     "output_type": "stream",
     "text": [
      "The lower quartile of occupancy is: 48.72207785\n",
      "The upper quartile of occupancy is: 64.29983003\n",
      "The interquartile range of occupancy is: 15.577752179999997\n",
      "The the median of occupancy is: 59.85195552 \n",
      "Values below 25.355449580000002 could be outliers.\n",
      "Values above 87.66645829999999 could be outliers.\n"
     ]
    },
    {
     "data": {
      "text/plain": [
       "0    62.999356\n",
       "1    45.000000\n",
       "2    56.057749\n",
       "3    55.742829\n",
       "4    48.722078\n",
       "Name: Tumor Volume (mm3), dtype: float64"
      ]
     },
     "execution_count": 53,
     "metadata": {},
     "output_type": "execute_result"
    }
   ],
   "source": [
    "drug1 = ceftmerge[\"Tumor Volume (mm3)\"]\n",
    "\n",
    "quartiles1 = drug1.quantile([.25,.5,.75])\n",
    "lower1 = quartiles1[0.25]\n",
    "upper1 = quartiles1[0.75]\n",
    "iqr1 = upper1-lower1\n",
    "print(f\"The lower quartile of occupancy is: {lower1}\")\n",
    "print(f\"The upper quartile of occupancy is: {upper1}\")\n",
    "print(f\"The interquartile range of occupancy is: {iqr1}\")\n",
    "print(f\"The the median of occupancy is: {quartiles1[0.5]} \")\n",
    "\n",
    "\n",
    "lower_bound1 = lower1 - (1.5*iqr1)\n",
    "upper_bound1 = upper1 + (1.5*iqr1)\n",
    "print(f\"Values below {lower_bound1} could be outliers.\")\n",
    "print(f\"Values above {upper_bound1} could be outliers.\")\n",
    "drug1.head()"
   ]
  },
  {
   "cell_type": "code",
   "execution_count": 57,
   "metadata": {},
   "outputs": [
    {
     "data": {
      "text/html": [
       "<div>\n",
       "<style scoped>\n",
       "    .dataframe tbody tr th:only-of-type {\n",
       "        vertical-align: middle;\n",
       "    }\n",
       "\n",
       "    .dataframe tbody tr th {\n",
       "        vertical-align: top;\n",
       "    }\n",
       "\n",
       "    .dataframe thead th {\n",
       "        text-align: right;\n",
       "    }\n",
       "</style>\n",
       "<table border=\"1\" class=\"dataframe\">\n",
       "  <thead>\n",
       "    <tr style=\"text-align: right;\">\n",
       "      <th></th>\n",
       "      <th>Mouse ID</th>\n",
       "      <th>Timepoint</th>\n",
       "      <th>Drug Regimen</th>\n",
       "      <th>Sex</th>\n",
       "      <th>Age_months</th>\n",
       "      <th>Weight (g)</th>\n",
       "      <th>Tumor Volume (mm3)</th>\n",
       "      <th>Metastatic Sites</th>\n",
       "    </tr>\n",
       "  </thead>\n",
       "  <tbody>\n",
       "    <tr>\n",
       "      <td>0</td>\n",
       "      <td>a366</td>\n",
       "      <td>30</td>\n",
       "      <td>Stelasyn</td>\n",
       "      <td>Female</td>\n",
       "      <td>16</td>\n",
       "      <td>29</td>\n",
       "      <td>63.440686</td>\n",
       "      <td>1</td>\n",
       "    </tr>\n",
       "    <tr>\n",
       "      <td>1</td>\n",
       "      <td>a492</td>\n",
       "      <td>45</td>\n",
       "      <td>Stelasyn</td>\n",
       "      <td>Male</td>\n",
       "      <td>20</td>\n",
       "      <td>25</td>\n",
       "      <td>60.122011</td>\n",
       "      <td>1</td>\n",
       "    </tr>\n",
       "    <tr>\n",
       "      <td>2</td>\n",
       "      <td>a963</td>\n",
       "      <td>45</td>\n",
       "      <td>Stelasyn</td>\n",
       "      <td>Female</td>\n",
       "      <td>23</td>\n",
       "      <td>27</td>\n",
       "      <td>62.765093</td>\n",
       "      <td>1</td>\n",
       "    </tr>\n",
       "    <tr>\n",
       "      <td>3</td>\n",
       "      <td>b879</td>\n",
       "      <td>45</td>\n",
       "      <td>Stelasyn</td>\n",
       "      <td>Female</td>\n",
       "      <td>4</td>\n",
       "      <td>26</td>\n",
       "      <td>72.555239</td>\n",
       "      <td>2</td>\n",
       "    </tr>\n",
       "    <tr>\n",
       "      <td>4</td>\n",
       "      <td>c402</td>\n",
       "      <td>45</td>\n",
       "      <td>Stelasyn</td>\n",
       "      <td>Female</td>\n",
       "      <td>1</td>\n",
       "      <td>27</td>\n",
       "      <td>74.040390</td>\n",
       "      <td>3</td>\n",
       "    </tr>\n",
       "  </tbody>\n",
       "</table>\n",
       "</div>"
      ],
      "text/plain": [
       "  Mouse ID  Timepoint Drug Regimen     Sex  Age_months  Weight (g)  \\\n",
       "0     a366         30     Stelasyn  Female          16          29   \n",
       "1     a492         45     Stelasyn    Male          20          25   \n",
       "2     a963         45     Stelasyn  Female          23          27   \n",
       "3     b879         45     Stelasyn  Female           4          26   \n",
       "4     c402         45     Stelasyn  Female           1          27   \n",
       "\n",
       "   Tumor Volume (mm3)  Metastatic Sites  \n",
       "0           63.440686                 1  \n",
       "1           60.122011                 1  \n",
       "2           62.765093                 1  \n",
       "3           72.555239                 2  \n",
       "4           74.040390                 3  "
      ]
     },
     "execution_count": 57,
     "metadata": {},
     "output_type": "execute_result"
    }
   ],
   "source": [
    "stel = Stelasyn_df.groupby('Mouse ID').max()['Timepoint']\n",
    "stelvol = pd.DataFrame(stel)\n",
    "stelmerge = pd.merge(stelvol, combined_mousetesting, on=(\"Mouse ID\",\"Timepoint\"),how=\"left\")\n",
    "stelmerge.head()"
   ]
  },
  {
   "cell_type": "code",
   "execution_count": 56,
   "metadata": {},
   "outputs": [
    {
     "name": "stdout",
     "output_type": "stream",
     "text": [
      "The lower quartile of occupancy is: 48.72207785\n",
      "The upper quartile of occupancy is: 64.29983003\n",
      "The interquartile range of occupancy is: 15.577752179999997\n",
      "The the median of occupancy is: 59.85195552 \n",
      "Values below 25.355449580000002 could be outliers.\n",
      "Values above 87.66645829999999 could be outliers.\n"
     ]
    },
    {
     "data": {
      "text/plain": [
       "0    62.999356\n",
       "1    45.000000\n",
       "2    56.057749\n",
       "3    55.742829\n",
       "4    48.722078\n",
       "Name: Tumor Volume (mm3), dtype: float64"
      ]
     },
     "execution_count": 56,
     "metadata": {},
     "output_type": "execute_result"
    }
   ],
   "source": [
    "drug2 = stelmerge[\"Tumor Volume (mm3)\"]\n",
    "\n",
    "quartiles2 = drug2.quantile([.25,.5,.75])\n",
    "lower2 = quartiles2[0.25]\n",
    "upper2 = quartiles2[0.75]\n",
    "iqr2 = upper2-lower2\n",
    "print(f\"The lower quartile of occupancy is: {lower2}\")\n",
    "print(f\"The upper quartile of occupancy is: {upper2}\")\n",
    "print(f\"The interquartile range of occupancy is: {iqr2}\")\n",
    "print(f\"The the median of occupancy is: {quartiles2[0.5]} \")\n",
    "\n",
    "\n",
    "lower_bound2 = lower2 - (1.5*iqr2)\n",
    "upper_bound2 = upper2 + (1.5*iqr2)\n",
    "print(f\"Values below {lower_bound2} could be outliers.\")\n",
    "print(f\"Values above {upper_bound2} could be outliers.\")\n",
    "drug2.head()"
   ]
  },
  {
   "cell_type": "code",
   "execution_count": 58,
   "metadata": {},
   "outputs": [
    {
     "data": {
      "text/html": [
       "<div>\n",
       "<style scoped>\n",
       "    .dataframe tbody tr th:only-of-type {\n",
       "        vertical-align: middle;\n",
       "    }\n",
       "\n",
       "    .dataframe tbody tr th {\n",
       "        vertical-align: top;\n",
       "    }\n",
       "\n",
       "    .dataframe thead th {\n",
       "        text-align: right;\n",
       "    }\n",
       "</style>\n",
       "<table border=\"1\" class=\"dataframe\">\n",
       "  <thead>\n",
       "    <tr style=\"text-align: right;\">\n",
       "      <th></th>\n",
       "      <th>Mouse ID</th>\n",
       "      <th>Timepoint</th>\n",
       "      <th>Drug Regimen</th>\n",
       "      <th>Sex</th>\n",
       "      <th>Age_months</th>\n",
       "      <th>Weight (g)</th>\n",
       "      <th>Tumor Volume (mm3)</th>\n",
       "      <th>Metastatic Sites</th>\n",
       "    </tr>\n",
       "  </thead>\n",
       "  <tbody>\n",
       "    <tr>\n",
       "      <td>0</td>\n",
       "      <td>a457</td>\n",
       "      <td>10</td>\n",
       "      <td>Ketapril</td>\n",
       "      <td>Female</td>\n",
       "      <td>11</td>\n",
       "      <td>30</td>\n",
       "      <td>49.783419</td>\n",
       "      <td>0</td>\n",
       "    </tr>\n",
       "    <tr>\n",
       "      <td>1</td>\n",
       "      <td>c580</td>\n",
       "      <td>30</td>\n",
       "      <td>Ketapril</td>\n",
       "      <td>Male</td>\n",
       "      <td>22</td>\n",
       "      <td>25</td>\n",
       "      <td>58.046569</td>\n",
       "      <td>3</td>\n",
       "    </tr>\n",
       "    <tr>\n",
       "      <td>2</td>\n",
       "      <td>c819</td>\n",
       "      <td>40</td>\n",
       "      <td>Ketapril</td>\n",
       "      <td>Male</td>\n",
       "      <td>21</td>\n",
       "      <td>25</td>\n",
       "      <td>62.175705</td>\n",
       "      <td>1</td>\n",
       "    </tr>\n",
       "    <tr>\n",
       "      <td>3</td>\n",
       "      <td>c832</td>\n",
       "      <td>45</td>\n",
       "      <td>Ketapril</td>\n",
       "      <td>Male</td>\n",
       "      <td>18</td>\n",
       "      <td>29</td>\n",
       "      <td>65.415955</td>\n",
       "      <td>3</td>\n",
       "    </tr>\n",
       "    <tr>\n",
       "      <td>4</td>\n",
       "      <td>d474</td>\n",
       "      <td>40</td>\n",
       "      <td>Ketapril</td>\n",
       "      <td>Male</td>\n",
       "      <td>18</td>\n",
       "      <td>27</td>\n",
       "      <td>60.233733</td>\n",
       "      <td>1</td>\n",
       "    </tr>\n",
       "  </tbody>\n",
       "</table>\n",
       "</div>"
      ],
      "text/plain": [
       "  Mouse ID  Timepoint Drug Regimen     Sex  Age_months  Weight (g)  \\\n",
       "0     a457         10     Ketapril  Female          11          30   \n",
       "1     c580         30     Ketapril    Male          22          25   \n",
       "2     c819         40     Ketapril    Male          21          25   \n",
       "3     c832         45     Ketapril    Male          18          29   \n",
       "4     d474         40     Ketapril    Male          18          27   \n",
       "\n",
       "   Tumor Volume (mm3)  Metastatic Sites  \n",
       "0           49.783419                 0  \n",
       "1           58.046569                 3  \n",
       "2           62.175705                 1  \n",
       "3           65.415955                 3  \n",
       "4           60.233733                 1  "
      ]
     },
     "execution_count": 58,
     "metadata": {},
     "output_type": "execute_result"
    }
   ],
   "source": [
    "keta = Ketapril_df.groupby('Mouse ID').max()['Timepoint']\n",
    "ketavol = pd.DataFrame(keta)\n",
    "ketamerge = pd.merge(ketavol, combined_mousetesting, on=(\"Mouse ID\",\"Timepoint\"),how=\"left\")\n",
    "ketamerge.head()"
   ]
  },
  {
   "cell_type": "code",
   "execution_count": 59,
   "metadata": {},
   "outputs": [
    {
     "name": "stdout",
     "output_type": "stream",
     "text": [
      "The lower quartile of occupancy is: 56.72009545\n",
      "The upper quartile of occupancy is: 69.87225079\n",
      "The interquartile range of occupancy is: 13.152155339999993\n",
      "The the median of occupancy is: 64.48781246 \n",
      "Values below 36.99186244000001 could be outliers.\n",
      "Values above 89.60048379999998 could be outliers.\n"
     ]
    },
    {
     "data": {
      "text/plain": [
       "0    49.783419\n",
       "1    58.046569\n",
       "2    62.175705\n",
       "3    65.415955\n",
       "4    60.233733\n",
       "Name: Tumor Volume (mm3), dtype: float64"
      ]
     },
     "execution_count": 59,
     "metadata": {},
     "output_type": "execute_result"
    }
   ],
   "source": [
    "drug3 = ketamerge[\"Tumor Volume (mm3)\"]\n",
    "\n",
    "quartiles3 = drug3.quantile([.25,.5,.75])\n",
    "lower3 = quartiles3[0.25]\n",
    "upper3 = quartiles3[0.75]\n",
    "iqr3 = upper3-lower3\n",
    "print(f\"The lower quartile of occupancy is: {lower3}\")\n",
    "print(f\"The upper quartile of occupancy is: {upper3}\")\n",
    "print(f\"The interquartile range of occupancy is: {iqr3}\")\n",
    "print(f\"The the median of occupancy is: {quartiles3[0.5]} \")\n",
    "\n",
    "\n",
    "lower_bound3 = lower3 - (1.5*iqr3)\n",
    "upper_bound3 = upper3 + (1.5*iqr3)\n",
    "print(f\"Values below {lower_bound3} could be outliers.\")\n",
    "print(f\"Values above {upper_bound3} could be outliers.\")\n",
    "drug3.head()"
   ]
  },
  {
   "cell_type": "code",
   "execution_count": 61,
   "metadata": {},
   "outputs": [
    {
     "data": {
      "image/png": "[encoded data removed]",
      "text/plain": [
       "<Figure size 432x288 with 1 Axes>"
      ]
     },
     "metadata": {
      "needs_background": "light"
     },
     "output_type": "display_data"
    }
   ],
   "source": [
    "drug_boxplot = [drug0, drug1, drug2, drug3]\n",
    "\n",
    "fig1, ax1 = plt.subplots()\n",
    "ax1.set_title('Tumors')\n",
    "ax1.set_ylabel('Final Tumor Volume (mm3)')\n",
    "ax1.set_xlabel('Drug Regimen')\n",
    "\n",
    "ax1.boxplot(drug_boxplot, labels=[\"Infubinol\",\"Ceftamin\",\"Stelasyn\",\"Ketapril\",])\n",
    "\n",
    "plt.savefig('boxplot')\n",
    "plt.show()\n"
   ]
  },
  {
   "cell_type": "markdown",
   "metadata": {},
   "source": [
    "## Line and scatter plots"
   ]
  },
  {
   "cell_type": "code",
   "execution_count": 63,
   "metadata": {},
   "outputs": [
    {
     "data": {
      "text/html": [
       "<div>\n",
       "<style scoped>\n",
       "    .dataframe tbody tr th:only-of-type {\n",
       "        vertical-align: middle;\n",
       "    }\n",
       "\n",
       "    .dataframe tbody tr th {\n",
       "        vertical-align: top;\n",
       "    }\n",
       "\n",
       "    .dataframe thead th {\n",
       "        text-align: right;\n",
       "    }\n",
       "</style>\n",
       "<table border=\"1\" class=\"dataframe\">\n",
       "  <thead>\n",
       "    <tr style=\"text-align: right;\">\n",
       "      <th></th>\n",
       "      <th>Mouse ID</th>\n",
       "      <th>Drug Regimen</th>\n",
       "      <th>Sex</th>\n",
       "      <th>Age_months</th>\n",
       "      <th>Weight (g)</th>\n",
       "      <th>Timepoint</th>\n",
       "      <th>Tumor Volume (mm3)</th>\n",
       "      <th>Metastatic Sites</th>\n",
       "    </tr>\n",
       "  </thead>\n",
       "  <tbody>\n",
       "    <tr>\n",
       "      <td>371</td>\n",
       "      <td>l509</td>\n",
       "      <td>Capomulin</td>\n",
       "      <td>Male</td>\n",
       "      <td>17</td>\n",
       "      <td>21</td>\n",
       "      <td>0</td>\n",
       "      <td>45.000000</td>\n",
       "      <td>0</td>\n",
       "    </tr>\n",
       "    <tr>\n",
       "      <td>372</td>\n",
       "      <td>l509</td>\n",
       "      <td>Capomulin</td>\n",
       "      <td>Male</td>\n",
       "      <td>17</td>\n",
       "      <td>21</td>\n",
       "      <td>5</td>\n",
       "      <td>45.851193</td>\n",
       "      <td>0</td>\n",
       "    </tr>\n",
       "    <tr>\n",
       "      <td>373</td>\n",
       "      <td>l509</td>\n",
       "      <td>Capomulin</td>\n",
       "      <td>Male</td>\n",
       "      <td>17</td>\n",
       "      <td>21</td>\n",
       "      <td>10</td>\n",
       "      <td>46.759074</td>\n",
       "      <td>0</td>\n",
       "    </tr>\n",
       "    <tr>\n",
       "      <td>374</td>\n",
       "      <td>l509</td>\n",
       "      <td>Capomulin</td>\n",
       "      <td>Male</td>\n",
       "      <td>17</td>\n",
       "      <td>21</td>\n",
       "      <td>15</td>\n",
       "      <td>47.488599</td>\n",
       "      <td>1</td>\n",
       "    </tr>\n",
       "    <tr>\n",
       "      <td>375</td>\n",
       "      <td>l509</td>\n",
       "      <td>Capomulin</td>\n",
       "      <td>Male</td>\n",
       "      <td>17</td>\n",
       "      <td>21</td>\n",
       "      <td>20</td>\n",
       "      <td>48.070452</td>\n",
       "      <td>2</td>\n",
       "    </tr>\n",
       "  </tbody>\n",
       "</table>\n",
       "</div>"
      ],
      "text/plain": [
       "    Mouse ID Drug Regimen   Sex  Age_months  Weight (g)  Timepoint  \\\n",
       "371     l509    Capomulin  Male          17          21          0   \n",
       "372     l509    Capomulin  Male          17          21          5   \n",
       "373     l509    Capomulin  Male          17          21         10   \n",
       "374     l509    Capomulin  Male          17          21         15   \n",
       "375     l509    Capomulin  Male          17          21         20   \n",
       "\n",
       "     Tumor Volume (mm3)  Metastatic Sites  \n",
       "371           45.000000                 0  \n",
       "372           45.851193                 0  \n",
       "373           46.759074                 0  \n",
       "374           47.488599                 1  \n",
       "375           48.070452                 2  "
      ]
     },
     "execution_count": 63,
     "metadata": {},
     "output_type": "execute_result"
    }
   ],
   "source": [
    "# Generate a line plot of time point versus tumor volume for a mouse treated with Capomulin\n",
    "cap_df = combined_mousetesting.loc[combined_mousetesting[\"Drug Regimen\"] == \"Capomulin\", :]\n",
    "\n",
    "line_cap = cap_df.loc[cap_df[\"Mouse ID\"] == \"l509\",:]\n",
    "line_cap.head()\n"
   ]
  },
  {
   "cell_type": "code",
   "execution_count": 64,
   "metadata": {},
   "outputs": [
    {
     "data": {
      "image/png": "[encoded data removed]",
      "text/plain": [
       "<Figure size 432x288 with 1 Axes>"
      ]
     },
     "metadata": {
      "needs_background": "light"
     },
     "output_type": "display_data"
    }
   ],
   "source": [
    "x_axisTP = line_cap[\"Timepoint\"]\n",
    "tumsiz = line_cap[\"Tumor Volume (mm3)\"]\n",
    "\n",
    "plt.title('Capomulin treatmeant of mouse l509')\n",
    "plt.plot(x_axisTP, tumsiz,linewidth=2, markersize=12)\n",
    "plt.xlabel('Timepoint (Days)')\n",
    "plt.ylabel('Tumor Volume (mm3)')\n",
    "\n",
    "plt.savefig('linechart')\n",
    "plt.show()"
   ]
  },
  {
   "cell_type": "code",
   "execution_count": 65,
   "metadata": {},
   "outputs": [
    {
     "data": {
      "image/png": "[encoded data removed]",
      "text/plain": [
       "<Figure size 432x288 with 1 Axes>"
      ]
     },
     "metadata": {
      "needs_background": "light"
     },
     "output_type": "display_data"
    }
   ],
   "source": [
    "# Generate a scatter plot of mouse weight versus average tumor volume for the Capomulin regimen\n",
    "capavg = cap_df.groupby(['Mouse ID']).mean()\n",
    "plt.scatter(capavg['Weight (g)'],capavg['Tumor Volume (mm3)'])\n",
    "plt.xlabel('Weight (g)')\n",
    "plt.ylabel('Average Tumor Volume (mm3)')\n",
    "\n",
    "plt.savefig('scatterplot')\n",
    "plt.show()"
   ]
  },
  {
   "cell_type": "code",
   "execution_count": 66,
   "metadata": {},
   "outputs": [
    {
     "name": "stdout",
     "output_type": "stream",
     "text": [
      "The correlation between mouse weight and average tumor volume is 0.84\n"
     ]
    }
   ],
   "source": [
    "# Calculate the correlation coefficient and linear regression model for mouse weight and average tumor volume for the Capomulin regimen\n",
    "\n",
    "corr=round(st.pearsonr(capavg['Weight (g)'],capavg['Tumor Volume (mm3)'])[0],2)\n",
    "print(f\"The correlation between mouse weight and average tumor volume is {corr}\")"
   ]
  },
  {
   "cell_type": "code",
   "execution_count": 67,
   "metadata": {},
   "outputs": [
    {
     "data": {
      "text/plain": [
       "LinregressResult(slope=0.9544396890241045, intercept=21.552160532685015, rvalue=0.8419363424694718, pvalue=1.3225722434712642e-07, stderr=0.1275435903320134)"
      ]
     },
     "execution_count": 67,
     "metadata": {},
     "output_type": "execute_result"
    }
   ],
   "source": [
    "model=st.linregress(capavg['Weight (g)'],capavg['Tumor Volume (mm3)'])\n",
    "model"
   ]
  },
  {
   "cell_type": "code",
   "execution_count": 69,
   "metadata": {},
   "outputs": [],
   "source": [
    "mslope = 0.9544396890241045\n",
    "bintercept = 21.552160532685015"
   ]
  },
  {
   "cell_type": "code",
   "execution_count": 70,
   "metadata": {},
   "outputs": [
    {
     "data": {
      "image/png": "[encoded data removed]",
      "text/plain": [
       "<Figure size 432x288 with 1 Axes>"
      ]
     },
     "metadata": {
      "needs_background": "light"
     },
     "output_type": "display_data"
    }
   ],
   "source": [
    "y_values = capavg['Weight (g)']*mslope+bintercept\n",
    "plt.scatter(capavg['Weight (g)'],capavg['Tumor Volume (mm3)'])\n",
    "plt.plot(capavg['Weight (g)'],y_values,color=\"red\")\n",
    "plt.xlabel('Weight(g)')\n",
    "plt.ylabel('Average Tumore Volume (mm3)')\n",
    "\n",
    "plt.savefig('linearregression')\n",
    "plt.show()"
   ]
  }
 ],
 "metadata": {
  "anaconda-cloud": {},
  "kernelspec": {
   "display_name": "Python 3",
   "language": "python",
   "name": "python3"
  },
  "language_info": {
   "codemirror_mode": {
    "name": "ipython",
    "version": 3
   },
   "file_extension": ".py",
   "mimetype": "text/x-python",
   "name": "python",
   "nbconvert_exporter": "python",
   "pygments_lexer": "ipython3",
   "version": "3.7.4"
  }
 },
 "nbformat": 4,
 "nbformat_minor": 2
}
